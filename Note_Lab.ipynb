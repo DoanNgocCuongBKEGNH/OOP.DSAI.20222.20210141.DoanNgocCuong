{
 "cells": [
  {
   "attachments": {},
   "cell_type": "markdown",
   "metadata": {},
   "source": [
    "# Lab01: "
   ]
  },
  {
   "attachments": {},
   "cell_type": "markdown",
   "metadata": {},
   "source": [
    "# Lab02: "
   ]
  },
  {
   "attachments": {},
   "cell_type": "markdown",
   "metadata": {},
   "source": [
    "# Lab03:\n",
    "- Working with Release workflow - a process used to prepare and deploy new software and applications. \n",
    "- Method overloading  \n",
    "- Parameter passing \n",
    "- Classifier member vs. Instance member \n",
    "- Practicing memory management with String and StringBuffer and other cases \n",
    "- Debugging with Eclipse \n",
    "- Re-organizing your project by creating packages to manage classes in Eclipse "
   ]
  },
  {
   "attachments": {},
   "cell_type": "markdown",
   "metadata": {},
   "source": [
    "## Release Flow: "
   ]
  },
  {
   "attachments": {},
   "cell_type": "markdown",
   "metadata": {},
   "source": [
    "Release Flow là một Git Workflow dùng để quản lý source code một cách nhất quán và hiệu quả. Trong Release Flow, đặt tên cho các nhánh phải tuân theo Convention, và sử dụng các loại nhánh như feature, topic, bugfix, hotfix, refactor và release. Khi sử dụng Git Workflow này, người dùng nên tạo nhiều nhánh nhất có thể với các tên mang tính chất rõ ràng, khi merge nhánh thì cần tuân thủ Policy của từng loại nhánh."
   ]
  },
  {
   "attachments": {},
   "cell_type": "markdown",
   "metadata": {},
   "source": [
    "## Method overloading: \n",
    "- Method Overloading allows different methods to have the same name but different signatures (with the difference possibly in the number of input parameters or the type of input parameters or both).\n"
   ]
  }
 ],
 "metadata": {
  "language_info": {
   "name": "python"
  },
  "orig_nbformat": 4
 },
 "nbformat": 4,
 "nbformat_minor": 2
}
